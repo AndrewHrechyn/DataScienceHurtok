{
 "cells": [
  {
   "metadata": {},
   "cell_type": "code",
   "outputs": [],
   "execution_count": null,
   "source": [
    "import pandas as pd\n",
    "import numpy as np\n",
    "import matplotlib.pyplot as plt\n",
    "import seaborn as sns"
   ],
   "id": "7f8ab1b400b414fd"
  },
  {
   "metadata": {},
   "cell_type": "markdown",
   "source": "Install all requirement modules",
   "id": "e161c63ccfdd076b"
  },
  {
   "metadata": {},
   "cell_type": "markdown",
   "source": "",
   "id": "50dd923b83edb7af"
  },
  {
   "metadata": {},
   "cell_type": "code",
   "outputs": [],
   "execution_count": null,
   "source": "#Get data in good shape to work with",
   "id": "59be3092a939f6b6"
  },
  {
   "metadata": {},
   "cell_type": "markdown",
   "source": "get data in good shape\n",
   "id": "de99b9561fe1a4fe"
  },
  {
   "metadata": {},
   "cell_type": "code",
   "outputs": [],
   "execution_count": null,
   "source": "",
   "id": "876133499899c832"
  }
 ],
 "metadata": {
  "kernelspec": {
   "display_name": "Python 3",
   "language": "python",
   "name": "python3"
  },
  "language_info": {
   "codemirror_mode": {
    "name": "ipython",
    "version": 2
   },
   "file_extension": ".py",
   "mimetype": "text/x-python",
   "name": "python",
   "nbconvert_exporter": "python",
   "pygments_lexer": "ipython2",
   "version": "2.7.6"
  }
 },
 "nbformat": 4,
 "nbformat_minor": 5
}
